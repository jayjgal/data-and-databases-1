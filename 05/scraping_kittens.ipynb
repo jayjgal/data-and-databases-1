{
 "cells": [
  {
   "cell_type": "markdown",
   "metadata": {},
   "source": [
    "# Scraping kittens.html with BeautifulSoup"
   ]
  },
  {
   "cell_type": "markdown",
   "metadata": {},
   "source": [
    "If you have not already done so, install bs4 on the command line or by running the code from the cell below. Remember, if you need to include a shell command within your Jupyter notebook, structure the command as you normally would, but include an `!` in the front (as you see below). "
   ]
  },
  {
   "cell_type": "code",
   "execution_count": 2,
   "metadata": {
    "collapsed": false
   },
   "outputs": [
    {
     "name": "stdout",
     "output_type": "stream",
     "text": [
      "Collecting bs4\n",
      "Collecting beautifulsoup4 (from bs4)\n",
      "  Using cached beautifulsoup4-4.4.1-py3-none-any.whl\n",
      "Installing collected packages: beautifulsoup4, bs4\n",
      "Successfully installed beautifulsoup4-4.4.1 bs4-0.0.1\n"
     ]
    }
   ],
   "source": [
    "!pip3 install bs4"
   ]
  },
  {
   "cell_type": "markdown",
   "metadata": {},
   "source": [
    "**Remember:** when you import libraries/modules and it looks like \"nothing happened\", that's a good sign! It means it imported without an error. "
   ]
  },
  {
   "cell_type": "code",
   "execution_count": 2,
   "metadata": {
    "collapsed": false
   },
   "outputs": [],
   "source": [
    "from bs4 import BeautifulSoup"
   ]
  },
  {
   "cell_type": "markdown",
   "metadata": {},
   "source": [
    "In Foundations, we have been using the `requests` library to talk to websites. Here, we're using a similar library to get data from [kittens.html](http://static.decontextualize.com/kittens.html). "
   ]
  },
  {
   "cell_type": "code",
   "execution_count": 3,
   "metadata": {
    "collapsed": true
   },
   "outputs": [],
   "source": [
    "from urllib.request import urlopen\n",
    "html_str = urlopen(\"http://static.decontextualize.com/kittens.html\").read()"
   ]
  },
  {
   "cell_type": "code",
   "execution_count": 4,
   "metadata": {
    "collapsed": false
   },
   "outputs": [
    {
     "name": "stdout",
     "output_type": "stream",
     "text": [
      "b'<!doctype html>\\n<html>\\n\\t<head>\\n\\t\\t<title>Kittens!</title>\\n\\t\\t<style type=\"text/css\">\\n\\t\\t\\tspan.lastcheckup { font-family: \"Courier\", fixed; font-size: 11px; }\\n\\t\\t</style>\\n\\t</head>\\n\\t<body>\\n\\t\\t<h1>Kittens and the TV Shows They Love</h1>\\n\\t\\t<div class=\"kitten\">\\n\\t\\t\\t<h2>Fluffy</h2>\\n\\t\\t\\t<div><img src=\"http://placekitten.com/120/120\"></div>\\n\\t\\t\\t<ul class=\"tvshows\">\\n\\t\\t\\t\\t<li>\\n\\t\\t\\t\\t\\t<a href=\"http://www.imdb.com/title/tt0106145/\">Deep Space Nine</a>\\n\\t\\t\\t\\t</li>\\n\\t\\t\\t\\t<li>\\n\\t\\t\\t\\t\\t<a href=\"http://www.imdb.com/title/tt0088576/\">Mr. Belvedere</a>\\n\\t\\t\\t\\t</li>\\n\\t\\t\\t</ul>\\n\\t\\t\\tLast check-up: <span class=\"lastcheckup\">2014-01-17</span>\\n\\t\\t</div>\\n\\t\\t<div class=\"kitten\">\\n\\t\\t\\t<h2>Monsieur Whiskeurs</h2>\\n\\t\\t\\t<div><img src=\"http://placekitten.com/110/110\"></div>\\n\\t\\t\\t<ul class=\"tvshows\">\\n\\t\\t\\t\\t<li>\\n\\t\\t\\t\\t\\t<a href=\"http://www.imdb.com/title/tt0106179/\">The X-Files</a>\\n\\t\\t\\t\\t</li>\\n\\t\\t\\t\\t<li>\\n\\t\\t\\t\\t\\t<a href=\"http://www.imdb.com/title/tt0098800/\">Fresh Prince</a>\\n\\t\\t\\t\\t</li>\\n\\t\\t\\t</ul>\\n\\t\\t\\tLast check-up: <span class=\"lastcheckup\">2013-11-02</span>\\n\\t\\t</div>\\n\\t</body>\\n</html>\\n\\n'\n"
     ]
    }
   ],
   "source": [
    "print(html_str)"
   ]
  },
  {
   "cell_type": "markdown",
   "metadata": {},
   "source": [
    "We get back our request as one long string. But we need our data to be machine-readable so that we can do cool things with it! Let's use a parser from BeautifulSoup to help us handle that task. "
   ]
  },
  {
   "cell_type": "code",
   "execution_count": 5,
   "metadata": {
    "collapsed": true
   },
   "outputs": [],
   "source": [
    "# document is a special variable that contains thing called an object (rather than a list or string, etc.)\n",
    "document = BeautifulSoup(html_str, \"html.parser\")"
   ]
  },
  {
   "cell_type": "markdown",
   "metadata": {},
   "source": [
    "Note that \"document\" is now a special kind of variable; it contains an **object**, rather than a list or a string, etc. If we do `type()` on document, we see that it just tells us that it is a BeautifulSoup object -- this type of object is specific to the bs4 library. "
   ]
  },
  {
   "cell_type": "code",
   "execution_count": 6,
   "metadata": {
    "collapsed": false
   },
   "outputs": [
    {
     "data": {
      "text/plain": [
       "bs4.BeautifulSoup"
      ]
     },
     "execution_count": 6,
     "metadata": {},
     "output_type": "execute_result"
    }
   ],
   "source": [
    "type(document)"
   ]
  },
  {
   "cell_type": "markdown",
   "metadata": {},
   "source": [
    "**A little bit about the Jupyter environment:**\n",
    "    \n",
    "+ If you start typing `document.` and then hit TAB, you'll see all the methods you can apply to `document`. \n",
    "\n",
    "> Note that `document` is **NOT** a special word; we decided to name our variable `document` when we parsed our html data, but really, we could have named it anything. \n",
    "\n",
    "+ In the case of BeautifulSoup, it also has an helpful command `help()` to show you what you can do with a bs4 object."
   ]
  },
  {
   "cell_type": "code",
   "execution_count": 7,
   "metadata": {
    "collapsed": false
   },
   "outputs": [
    {
     "name": "stdout",
     "output_type": "stream",
     "text": [
      "Help on BeautifulSoup in module bs4 object:\n",
      "\n",
      "class BeautifulSoup(bs4.element.Tag)\n",
      " |  This class defines the basic interface called by the tree builders.\n",
      " |  \n",
      " |  These methods will be called by the parser:\n",
      " |    reset()\n",
      " |    feed(markup)\n",
      " |  \n",
      " |  The tree builder may call these methods from its feed() implementation:\n",
      " |    handle_starttag(name, attrs) # See note about return value\n",
      " |    handle_endtag(name)\n",
      " |    handle_data(data) # Appends to the current data node\n",
      " |    endData(containerClass=NavigableString) # Ends the current data node\n",
      " |  \n",
      " |  No matter how complicated the underlying parser is, you should be\n",
      " |  able to build a tree using 'start tag' events, 'end tag' events,\n",
      " |  'data' events, and \"done with data\" events.\n",
      " |  \n",
      " |  If you encounter an empty-element tag (aka a self-closing tag,\n",
      " |  like HTML's <br> tag), call handle_starttag and then\n",
      " |  handle_endtag.\n",
      " |  \n",
      " |  Method resolution order:\n",
      " |      BeautifulSoup\n",
      " |      bs4.element.Tag\n",
      " |      bs4.element.PageElement\n",
      " |      builtins.object\n",
      " |  \n",
      " |  Methods defined here:\n",
      " |  \n",
      " |  __copy__(self)\n",
      " |      A copy of a Tag is a new Tag, unconnected to the parse tree.\n",
      " |      Its contents are a copy of the old Tag's contents.\n",
      " |  \n",
      " |  __getstate__(self)\n",
      " |  \n",
      " |  __init__(self, markup='', features=None, builder=None, parse_only=None, from_encoding=None, exclude_encodings=None, **kwargs)\n",
      " |      The Soup object is initialized as the 'root tag', and the\n",
      " |      provided markup (which can be a string or a file-like object)\n",
      " |      is fed into the underlying parser.\n",
      " |  \n",
      " |  decode(self, pretty_print=False, eventual_encoding='utf-8', formatter='minimal')\n",
      " |      Returns a string or Unicode representation of this document.\n",
      " |      To get Unicode, pass None for encoding.\n",
      " |  \n",
      " |  endData(self, containerClass=<class 'bs4.element.NavigableString'>)\n",
      " |  \n",
      " |  handle_data(self, data)\n",
      " |  \n",
      " |  handle_endtag(self, name, nsprefix=None)\n",
      " |  \n",
      " |  handle_starttag(self, name, namespace, nsprefix, attrs)\n",
      " |      Push a start tag on to the stack.\n",
      " |      \n",
      " |      If this method returns None, the tag was rejected by the\n",
      " |      SoupStrainer. You should proceed as if the tag had not occured\n",
      " |      in the document. For instance, if this was a self-closing tag,\n",
      " |      don't call handle_endtag.\n",
      " |  \n",
      " |  insert_after(self, successor)\n",
      " |      Makes the given element the immediate successor of this one.\n",
      " |      \n",
      " |      The two elements will have the same parent, and the given element\n",
      " |      will be immediately after this one.\n",
      " |  \n",
      " |  insert_before(self, successor)\n",
      " |      Makes the given element the immediate predecessor of this one.\n",
      " |      \n",
      " |      The two elements will have the same parent, and the given element\n",
      " |      will be immediately before this one.\n",
      " |  \n",
      " |  new_string(self, s, subclass=<class 'bs4.element.NavigableString'>)\n",
      " |      Create a new NavigableString associated with this soup.\n",
      " |  \n",
      " |  new_tag(self, name, namespace=None, nsprefix=None, **attrs)\n",
      " |      Create a new tag associated with this soup.\n",
      " |  \n",
      " |  object_was_parsed(self, o, parent=None, most_recent_element=None)\n",
      " |      Add an object to the parse tree.\n",
      " |  \n",
      " |  popTag(self)\n",
      " |  \n",
      " |  pushTag(self, tag)\n",
      " |  \n",
      " |  reset(self)\n",
      " |  \n",
      " |  ----------------------------------------------------------------------\n",
      " |  Data and other attributes defined here:\n",
      " |  \n",
      " |  ASCII_SPACES = ' \\n\\t\\x0c\\r'\n",
      " |  \n",
      " |  DEFAULT_BUILDER_FEATURES = ['html', 'fast']\n",
      " |  \n",
      " |  NO_PARSER_SPECIFIED_WARNING = 'No parser was explicitly specified, so ...\n",
      " |  \n",
      " |  ROOT_TAG_NAME = '[document]'\n",
      " |  \n",
      " |  ----------------------------------------------------------------------\n",
      " |  Methods inherited from bs4.element.Tag:\n",
      " |  \n",
      " |  __bool__(self)\n",
      " |      A tag is non-None even if it has no contents.\n",
      " |  \n",
      " |  __call__(self, *args, **kwargs)\n",
      " |      Calling a tag like a function is the same as calling its\n",
      " |      find_all() method. Eg. tag('a') returns a list of all the A tags\n",
      " |      found within this tag.\n",
      " |  \n",
      " |  __contains__(self, x)\n",
      " |  \n",
      " |  __delitem__(self, key)\n",
      " |      Deleting tag[key] deletes all 'key' attributes for the tag.\n",
      " |  \n",
      " |  __eq__(self, other)\n",
      " |      Returns true iff this tag has the same name, the same attributes,\n",
      " |      and the same contents (recursively) as the given tag.\n",
      " |  \n",
      " |  __getattr__(self, tag)\n",
      " |  \n",
      " |  __getitem__(self, key)\n",
      " |      tag[key] returns the value of the 'key' attribute for the tag,\n",
      " |      and throws an exception if it's not there.\n",
      " |  \n",
      " |  __hash__(self)\n",
      " |      Return hash(self).\n",
      " |  \n",
      " |  __iter__(self)\n",
      " |      Iterating over a tag iterates over its contents.\n",
      " |  \n",
      " |  __len__(self)\n",
      " |      The length of a tag is the length of its list of contents.\n",
      " |  \n",
      " |  __ne__(self, other)\n",
      " |      Returns true iff this tag is not identical to the other tag,\n",
      " |      as defined in __eq__.\n",
      " |  \n",
      " |  __repr__ = __unicode__(self)\n",
      " |  \n",
      " |  __setitem__(self, key, value)\n",
      " |      Setting tag[key] sets the value of the 'key' attribute for the\n",
      " |      tag.\n",
      " |  \n",
      " |  __str__ = __unicode__(self)\n",
      " |  \n",
      " |  __unicode__(self)\n",
      " |  \n",
      " |  childGenerator(self)\n",
      " |      # Old names for backwards compatibility\n",
      " |  \n",
      " |  clear(self, decompose=False)\n",
      " |      Extract all children. If decompose is True, decompose instead.\n",
      " |  \n",
      " |  decode_contents(self, indent_level=None, eventual_encoding='utf-8', formatter='minimal')\n",
      " |      Renders the contents of this tag as a Unicode string.\n",
      " |      \n",
      " |      :param indent_level: Each line of the rendering will be\n",
      " |         indented this many spaces.\n",
      " |      \n",
      " |      :param eventual_encoding: The tag is destined to be\n",
      " |         encoded into this encoding. This method is _not_\n",
      " |         responsible for performing that encoding. This information\n",
      " |         is passed in so that it can be substituted in if the\n",
      " |         document contains a <META> tag that mentions the document's\n",
      " |         encoding.\n",
      " |      \n",
      " |      :param formatter: The output formatter responsible for converting\n",
      " |         entities to Unicode characters.\n",
      " |  \n",
      " |  decompose(self)\n",
      " |      Recursively destroys the contents of this tree.\n",
      " |  \n",
      " |  encode(self, encoding='utf-8', indent_level=None, formatter='minimal', errors='xmlcharrefreplace')\n",
      " |  \n",
      " |  encode_contents(self, indent_level=None, encoding='utf-8', formatter='minimal')\n",
      " |      Renders the contents of this tag as a bytestring.\n",
      " |      \n",
      " |      :param indent_level: Each line of the rendering will be\n",
      " |         indented this many spaces.\n",
      " |      \n",
      " |      :param eventual_encoding: The bytestring will be in this encoding.\n",
      " |      \n",
      " |      :param formatter: The output formatter responsible for converting\n",
      " |         entities to Unicode characters.\n",
      " |  \n",
      " |  find(self, name=None, attrs={}, recursive=True, text=None, **kwargs)\n",
      " |      Return only the first child of this Tag matching the given\n",
      " |      criteria.\n",
      " |  \n",
      " |  findAll = find_all(self, name=None, attrs={}, recursive=True, text=None, limit=None, **kwargs)\n",
      " |      Extracts a list of Tag objects that match the given\n",
      " |      criteria.  You can specify the name of the Tag and any\n",
      " |      attributes you want the Tag to have.\n",
      " |      \n",
      " |      The value of a key-value pair in the 'attrs' map can be a\n",
      " |      string, a list of strings, a regular expression object, or a\n",
      " |      callable that takes a string and returns whether or not the\n",
      " |      string matches for some custom definition of 'matches'. The\n",
      " |      same is true of the tag name.\n",
      " |  \n",
      " |  findChild = find(self, name=None, attrs={}, recursive=True, text=None, **kwargs)\n",
      " |      Return only the first child of this Tag matching the given\n",
      " |      criteria.\n",
      " |  \n",
      " |  findChildren = find_all(self, name=None, attrs={}, recursive=True, text=None, limit=None, **kwargs)\n",
      " |      Extracts a list of Tag objects that match the given\n",
      " |      criteria.  You can specify the name of the Tag and any\n",
      " |      attributes you want the Tag to have.\n",
      " |      \n",
      " |      The value of a key-value pair in the 'attrs' map can be a\n",
      " |      string, a list of strings, a regular expression object, or a\n",
      " |      callable that takes a string and returns whether or not the\n",
      " |      string matches for some custom definition of 'matches'. The\n",
      " |      same is true of the tag name.\n",
      " |  \n",
      " |  find_all(self, name=None, attrs={}, recursive=True, text=None, limit=None, **kwargs)\n",
      " |      Extracts a list of Tag objects that match the given\n",
      " |      criteria.  You can specify the name of the Tag and any\n",
      " |      attributes you want the Tag to have.\n",
      " |      \n",
      " |      The value of a key-value pair in the 'attrs' map can be a\n",
      " |      string, a list of strings, a regular expression object, or a\n",
      " |      callable that takes a string and returns whether or not the\n",
      " |      string matches for some custom definition of 'matches'. The\n",
      " |      same is true of the tag name.\n",
      " |  \n",
      " |  get(self, key, default=None)\n",
      " |      Returns the value of the 'key' attribute for the tag, or\n",
      " |      the value given for 'default' if it doesn't have that\n",
      " |      attribute.\n",
      " |  \n",
      " |  getText = get_text(self, separator='', strip=False, types=(<class 'bs4.element.NavigableString'>, <class 'bs4.element.CData'>))\n",
      " |      Get all child strings, concatenated using the given separator.\n",
      " |  \n",
      " |  get_text(self, separator='', strip=False, types=(<class 'bs4.element.NavigableString'>, <class 'bs4.element.CData'>))\n",
      " |      Get all child strings, concatenated using the given separator.\n",
      " |  \n",
      " |  has_attr(self, key)\n",
      " |  \n",
      " |  has_key(self, key)\n",
      " |      This was kind of misleading because has_key() (attributes)\n",
      " |      was different from __in__ (contents). has_key() is gone in\n",
      " |      Python 3, anyway.\n",
      " |  \n",
      " |  index(self, element)\n",
      " |      Find the index of a child by identity, not value. Avoids issues with\n",
      " |      tag.contents.index(element) getting the index of equal elements.\n",
      " |  \n",
      " |  prettify(self, encoding=None, formatter='minimal')\n",
      " |  \n",
      " |  recursiveChildGenerator(self)\n",
      " |  \n",
      " |  renderContents(self, encoding='utf-8', prettyPrint=False, indentLevel=0)\n",
      " |      # Old method for BS3 compatibility\n",
      " |  \n",
      " |  select(self, selector, _candidate_generator=None, limit=None)\n",
      " |      Perform a CSS selection operation on the current element.\n",
      " |  \n",
      " |  select_one(self, selector)\n",
      " |      Perform a CSS selection operation on the current element.\n",
      " |  \n",
      " |  ----------------------------------------------------------------------\n",
      " |  Data descriptors inherited from bs4.element.Tag:\n",
      " |  \n",
      " |  children\n",
      " |  \n",
      " |  descendants\n",
      " |  \n",
      " |  isSelfClosing\n",
      " |      Is this tag an empty-element tag? (aka a self-closing tag)\n",
      " |      \n",
      " |      A tag that has contents is never an empty-element tag.\n",
      " |      \n",
      " |      A tag that has no contents may or may not be an empty-element\n",
      " |      tag. It depends on the builder used to create the tag. If the\n",
      " |      builder has a designated list of empty-element tags, then only\n",
      " |      a tag whose name shows up in that list is considered an\n",
      " |      empty-element tag.\n",
      " |      \n",
      " |      If the builder has no designated list of empty-element tags,\n",
      " |      then any tag with no contents is an empty-element tag.\n",
      " |  \n",
      " |  is_empty_element\n",
      " |      Is this tag an empty-element tag? (aka a self-closing tag)\n",
      " |      \n",
      " |      A tag that has contents is never an empty-element tag.\n",
      " |      \n",
      " |      A tag that has no contents may or may not be an empty-element\n",
      " |      tag. It depends on the builder used to create the tag. If the\n",
      " |      builder has a designated list of empty-element tags, then only\n",
      " |      a tag whose name shows up in that list is considered an\n",
      " |      empty-element tag.\n",
      " |      \n",
      " |      If the builder has no designated list of empty-element tags,\n",
      " |      then any tag with no contents is an empty-element tag.\n",
      " |  \n",
      " |  parserClass\n",
      " |  \n",
      " |  string\n",
      " |      Convenience property to get the single string within this tag.\n",
      " |      \n",
      " |      :Return: If this tag has a single string child, return value\n",
      " |       is that string. If this tag has no children, or more than one\n",
      " |       child, return value is None. If this tag has one child tag,\n",
      " |       return value is the 'string' attribute of the child tag,\n",
      " |       recursively.\n",
      " |  \n",
      " |  strings\n",
      " |      Yield all strings of certain classes, possibly stripping them.\n",
      " |      \n",
      " |      By default, yields only NavigableString and CData objects. So\n",
      " |      no comments, processing instructions, etc.\n",
      " |  \n",
      " |  stripped_strings\n",
      " |  \n",
      " |  text\n",
      " |      Get all child strings, concatenated using the given separator.\n",
      " |  \n",
      " |  ----------------------------------------------------------------------\n",
      " |  Methods inherited from bs4.element.PageElement:\n",
      " |  \n",
      " |  append(self, tag)\n",
      " |      Appends the given tag to the contents of this tag.\n",
      " |  \n",
      " |  extract(self)\n",
      " |      Destructively rips this element out of the tree.\n",
      " |  \n",
      " |  fetchNextSiblings = find_next_siblings(self, name=None, attrs={}, text=None, limit=None, **kwargs)\n",
      " |      Returns the siblings of this Tag that match the given\n",
      " |      criteria and appear after this Tag in the document.\n",
      " |  \n",
      " |  fetchParents = find_parents(self, name=None, attrs={}, limit=None, **kwargs)\n",
      " |      Returns the parents of this Tag that match the given\n",
      " |      criteria.\n",
      " |  \n",
      " |  fetchPrevious = find_all_previous(self, name=None, attrs={}, text=None, limit=None, **kwargs)\n",
      " |      Returns all items that match the given criteria and appear\n",
      " |      before this Tag in the document.\n",
      " |  \n",
      " |  fetchPreviousSiblings = find_previous_siblings(self, name=None, attrs={}, text=None, limit=None, **kwargs)\n",
      " |      Returns the siblings of this Tag that match the given\n",
      " |      criteria and appear before this Tag in the document.\n",
      " |  \n",
      " |  findAllNext = find_all_next(self, name=None, attrs={}, text=None, limit=None, **kwargs)\n",
      " |      Returns all items that match the given criteria and appear\n",
      " |      after this Tag in the document.\n",
      " |  \n",
      " |  findAllPrevious = find_all_previous(self, name=None, attrs={}, text=None, limit=None, **kwargs)\n",
      " |      Returns all items that match the given criteria and appear\n",
      " |      before this Tag in the document.\n",
      " |  \n",
      " |  findNext = find_next(self, name=None, attrs={}, text=None, **kwargs)\n",
      " |      Returns the first item that matches the given criteria and\n",
      " |      appears after this Tag in the document.\n",
      " |  \n",
      " |  findNextSibling = find_next_sibling(self, name=None, attrs={}, text=None, **kwargs)\n",
      " |      Returns the closest sibling to this Tag that matches the\n",
      " |      given criteria and appears after this Tag in the document.\n",
      " |  \n",
      " |  findNextSiblings = find_next_siblings(self, name=None, attrs={}, text=None, limit=None, **kwargs)\n",
      " |      Returns the siblings of this Tag that match the given\n",
      " |      criteria and appear after this Tag in the document.\n",
      " |  \n",
      " |  findParent = find_parent(self, name=None, attrs={}, **kwargs)\n",
      " |      Returns the closest parent of this Tag that matches the given\n",
      " |      criteria.\n",
      " |  \n",
      " |  findParents = find_parents(self, name=None, attrs={}, limit=None, **kwargs)\n",
      " |      Returns the parents of this Tag that match the given\n",
      " |      criteria.\n",
      " |  \n",
      " |  findPrevious = find_previous(self, name=None, attrs={}, text=None, **kwargs)\n",
      " |      Returns the first item that matches the given criteria and\n",
      " |      appears before this Tag in the document.\n",
      " |  \n",
      " |  findPreviousSibling = find_previous_sibling(self, name=None, attrs={}, text=None, **kwargs)\n",
      " |      Returns the closest sibling to this Tag that matches the\n",
      " |      given criteria and appears before this Tag in the document.\n",
      " |  \n",
      " |  findPreviousSiblings = find_previous_siblings(self, name=None, attrs={}, text=None, limit=None, **kwargs)\n",
      " |      Returns the siblings of this Tag that match the given\n",
      " |      criteria and appear before this Tag in the document.\n",
      " |  \n",
      " |  find_all_next(self, name=None, attrs={}, text=None, limit=None, **kwargs)\n",
      " |      Returns all items that match the given criteria and appear\n",
      " |      after this Tag in the document.\n",
      " |  \n",
      " |  find_all_previous(self, name=None, attrs={}, text=None, limit=None, **kwargs)\n",
      " |      Returns all items that match the given criteria and appear\n",
      " |      before this Tag in the document.\n",
      " |  \n",
      " |  find_next(self, name=None, attrs={}, text=None, **kwargs)\n",
      " |      Returns the first item that matches the given criteria and\n",
      " |      appears after this Tag in the document.\n",
      " |  \n",
      " |  find_next_sibling(self, name=None, attrs={}, text=None, **kwargs)\n",
      " |      Returns the closest sibling to this Tag that matches the\n",
      " |      given criteria and appears after this Tag in the document.\n",
      " |  \n",
      " |  find_next_siblings(self, name=None, attrs={}, text=None, limit=None, **kwargs)\n",
      " |      Returns the siblings of this Tag that match the given\n",
      " |      criteria and appear after this Tag in the document.\n",
      " |  \n",
      " |  find_parent(self, name=None, attrs={}, **kwargs)\n",
      " |      Returns the closest parent of this Tag that matches the given\n",
      " |      criteria.\n",
      " |  \n",
      " |  find_parents(self, name=None, attrs={}, limit=None, **kwargs)\n",
      " |      Returns the parents of this Tag that match the given\n",
      " |      criteria.\n",
      " |  \n",
      " |  find_previous(self, name=None, attrs={}, text=None, **kwargs)\n",
      " |      Returns the first item that matches the given criteria and\n",
      " |      appears before this Tag in the document.\n",
      " |  \n",
      " |  find_previous_sibling(self, name=None, attrs={}, text=None, **kwargs)\n",
      " |      Returns the closest sibling to this Tag that matches the\n",
      " |      given criteria and appears before this Tag in the document.\n",
      " |  \n",
      " |  find_previous_siblings(self, name=None, attrs={}, text=None, limit=None, **kwargs)\n",
      " |      Returns the siblings of this Tag that match the given\n",
      " |      criteria and appear before this Tag in the document.\n",
      " |  \n",
      " |  format_string(self, s, formatter='minimal')\n",
      " |      Format the given string using the given formatter.\n",
      " |  \n",
      " |  insert(self, position, new_child)\n",
      " |  \n",
      " |  nextGenerator(self)\n",
      " |      # Old non-property versions of the generators, for backwards\n",
      " |      # compatibility with BS3.\n",
      " |  \n",
      " |  nextSiblingGenerator(self)\n",
      " |  \n",
      " |  parentGenerator(self)\n",
      " |  \n",
      " |  previousGenerator(self)\n",
      " |  \n",
      " |  previousSiblingGenerator(self)\n",
      " |  \n",
      " |  replaceWith = replace_with(self, replace_with)\n",
      " |  \n",
      " |  replaceWithChildren = unwrap(self)\n",
      " |  \n",
      " |  replace_with(self, replace_with)\n",
      " |  \n",
      " |  replace_with_children = unwrap(self)\n",
      " |  \n",
      " |  setup(self, parent=None, previous_element=None, next_element=None, previous_sibling=None, next_sibling=None)\n",
      " |      Sets up the initial relations between this element and\n",
      " |      other elements.\n",
      " |  \n",
      " |  unwrap(self)\n",
      " |  \n",
      " |  wrap(self, wrap_inside)\n",
      " |  \n",
      " |  ----------------------------------------------------------------------\n",
      " |  Data descriptors inherited from bs4.element.PageElement:\n",
      " |  \n",
      " |  __dict__\n",
      " |      dictionary for instance variables (if defined)\n",
      " |  \n",
      " |  __weakref__\n",
      " |      list of weak references to the object (if defined)\n",
      " |  \n",
      " |  next\n",
      " |  \n",
      " |  nextSibling\n",
      " |  \n",
      " |  next_elements\n",
      " |  \n",
      " |  next_siblings\n",
      " |  \n",
      " |  parents\n",
      " |  \n",
      " |  previous\n",
      " |  \n",
      " |  previousSibling\n",
      " |  \n",
      " |  previous_elements\n",
      " |  \n",
      " |  previous_siblings\n",
      " |  \n",
      " |  ----------------------------------------------------------------------\n",
      " |  Data and other attributes inherited from bs4.element.PageElement:\n",
      " |  \n",
      " |  HTML_FORMATTERS = {'html': <bound method HTMLAwareEntitySubstitution.s...\n",
      " |  \n",
      " |  XML_FORMATTERS = {'html': <bound method EntitySubstitution.substitute_...\n",
      " |  \n",
      " |  attribselect_re = re.compile('^(?P<tag>[a-zA-Z0-9][-.a-zA-Z0-9:_]*...[...\n",
      " |  \n",
      " |  tag_name_re = re.compile('^[a-zA-Z0-9][-.a-zA-Z0-9:_]*$')\n",
      "\n"
     ]
    }
   ],
   "source": [
    "help(document)"
   ]
  },
  {
   "cell_type": "markdown",
   "metadata": {},
   "source": [
    "## Looking at our document"
   ]
  },
  {
   "cell_type": "code",
   "execution_count": 8,
   "metadata": {
    "collapsed": false
   },
   "outputs": [],
   "source": [
    "# your tag is an object, and \n",
    "# finds you the first tag that matches the string that you passed .find()\n",
    "h1_tag = document.find('h1')"
   ]
  },
  {
   "cell_type": "code",
   "execution_count": 9,
   "metadata": {
    "collapsed": false
   },
   "outputs": [
    {
     "data": {
      "text/plain": [
       "<h1>Kittens and the TV Shows They Love</h1>"
      ]
     },
     "execution_count": 9,
     "metadata": {},
     "output_type": "execute_result"
    }
   ],
   "source": [
    "# our tag object \n",
    "h1_tag"
   ]
  },
  {
   "cell_type": "code",
   "execution_count": 10,
   "metadata": {
    "collapsed": false
   },
   "outputs": [
    {
     "data": {
      "text/plain": [
       "'Kittens and the TV Shows They Love'"
      ]
     },
     "execution_count": 10,
     "metadata": {},
     "output_type": "execute_result"
    }
   ],
   "source": [
    "h1_tag.string"
   ]
  },
  {
   "cell_type": "code",
   "execution_count": 11,
   "metadata": {
    "collapsed": true
   },
   "outputs": [],
   "source": [
    "img_tag = document.find('img')"
   ]
  },
  {
   "cell_type": "code",
   "execution_count": 12,
   "metadata": {
    "collapsed": true
   },
   "outputs": [],
   "source": [
    "img_tag.string"
   ]
  },
  {
   "cell_type": "markdown",
   "metadata": {},
   "source": [
    "You can treat a **tag object** like a dictionary! You can pull out attributes of the tag the same way we'd pull out the key-value pairs out of a dictionary. "
   ]
  },
  {
   "cell_type": "code",
   "execution_count": 13,
   "metadata": {
    "collapsed": false
   },
   "outputs": [
    {
     "data": {
      "text/plain": [
       "'http://placekitten.com/120/120'"
      ]
     },
     "execution_count": 13,
     "metadata": {},
     "output_type": "execute_result"
    }
   ],
   "source": [
    "img_tag['src']"
   ]
  },
  {
   "cell_type": "markdown",
   "metadata": {
    "collapsed": true
   },
   "source": [
    "The `.find()` method is just the start! Tags themselves have a find method -- this searches the descendants of that tag, rather than the entire html page. \n"
   ]
  },
  {
   "cell_type": "code",
   "execution_count": 15,
   "metadata": {
    "collapsed": true
   },
   "outputs": [],
   "source": [
    "img_tags = document.find_all('img')"
   ]
  },
  {
   "cell_type": "code",
   "execution_count": 16,
   "metadata": {
    "collapsed": false
   },
   "outputs": [
    {
     "data": {
      "text/plain": [
       "bs4.element.ResultSet"
      ]
     },
     "execution_count": 16,
     "metadata": {},
     "output_type": "execute_result"
    }
   ],
   "source": [
    "# this is a fancy way of saying lists! \n",
    "type(img_tags)"
   ]
  },
  {
   "cell_type": "code",
   "execution_count": 17,
   "metadata": {
    "collapsed": false
   },
   "outputs": [
    {
     "data": {
      "text/plain": [
       "<img src=\"http://placekitten.com/120/120\"/>"
      ]
     },
     "execution_count": 17,
     "metadata": {},
     "output_type": "execute_result"
    }
   ],
   "source": [
    "img_tags[0]"
   ]
  },
  {
   "cell_type": "code",
   "execution_count": 18,
   "metadata": {
    "collapsed": false
   },
   "outputs": [
    {
     "data": {
      "text/plain": [
       "2"
      ]
     },
     "execution_count": 18,
     "metadata": {},
     "output_type": "execute_result"
    }
   ],
   "source": [
    "len(img_tags)"
   ]
  },
  {
   "cell_type": "code",
   "execution_count": 19,
   "metadata": {
    "collapsed": false
   },
   "outputs": [
    {
     "name": "stdout",
     "output_type": "stream",
     "text": [
      "http://placekitten.com/120/120\n",
      "http://placekitten.com/110/110\n"
     ]
    }
   ],
   "source": [
    "for tag_obj in img_tags:\n",
    "    print(tag_obj['src'])"
   ]
  },
  {
   "cell_type": "code",
   "execution_count": 20,
   "metadata": {
    "collapsed": false
   },
   "outputs": [
    {
     "name": "stdout",
     "output_type": "stream",
     "text": [
      "Fluffy\n",
      "Monsieur Whiskeurs\n"
     ]
    }
   ],
   "source": [
    "h2_tags = document.find_all('h2')\n",
    "\n",
    "# Just the content in our tags\n",
    "for item in h2_tags:\n",
    "    print(item.string)"
   ]
  },
  {
   "cell_type": "code",
   "execution_count": 21,
   "metadata": {
    "collapsed": false
   },
   "outputs": [
    {
     "name": "stdout",
     "output_type": "stream",
     "text": [
      "2014-01-17\n",
      "2013-11-02\n"
     ]
    }
   ],
   "source": [
    "# alternate form of the find_all function\n",
    "checkups = document.find_all('span', {'class': 'lastcheckup'})\n",
    "\n",
    "for items in checkups:\n",
    "    print(items.string)"
   ]
  },
  {
   "cell_type": "markdown",
   "metadata": {},
   "source": [
    "We want to print out: \n",
    "\n",
    "`Fluffy: 2014-01-17\n",
    "Monsieur Whiskeurs: 2013-11-02`\n"
   ]
  },
  {
   "cell_type": "markdown",
   "metadata": {},
   "source": [
    "Imagine our html document as a **tree structure**. "
   ]
  },
  {
   "cell_type": "code",
   "execution_count": 22,
   "metadata": {
    "collapsed": false
   },
   "outputs": [
    {
     "name": "stdout",
     "output_type": "stream",
     "text": [
      "Fluffy\n",
      "2014-01-17\n",
      "Monsieur Whiskeurs\n",
      "2013-11-02\n"
     ]
    }
   ],
   "source": [
    "kittens = document.find_all('div', {'class': 'kitten'})\n",
    "\n",
    "# for item in kittens:\n",
    "#     h2_tag = document.find_all('h2') # this is actually searching the ENTIRE document\n",
    "#     print(h2_tag[0].string)\n",
    "#     checkup = document.find_all('span')\n",
    "#     print(checkup[0].string)\n",
    "  \n",
    "# Search ONLY the descendant of our div tag\n",
    "\n",
    "for item in kittens:\n",
    "    h2_tag = item.find('h2') # this is actually searching the ENTIRE document\n",
    "    print(h2_tag.string)\n",
    "    checkup = item.find('span')\n",
    "    print(checkup.string)"
   ]
  },
  {
   "cell_type": "code",
   "execution_count": 23,
   "metadata": {
    "collapsed": true
   },
   "outputs": [],
   "source": [
    "kittens = document.find_all('div', {'class':'kitten'})"
   ]
  },
  {
   "cell_type": "code",
   "execution_count": 24,
   "metadata": {
    "collapsed": false
   },
   "outputs": [
    {
     "name": "stdout",
     "output_type": "stream",
     "text": [
      "Fluffy\n"
     ]
    }
   ],
   "source": [
    "first_kitten = kittens[0]\n",
    "first_kitten_h2 = first_kitten.find('h2')\n",
    "print(first_kitten_h2.string)"
   ]
  },
  {
   "cell_type": "code",
   "execution_count": 25,
   "metadata": {
    "collapsed": false
   },
   "outputs": [
    {
     "name": "stdout",
     "output_type": "stream",
     "text": [
      "Monsieur Whiskeurs\n"
     ]
    }
   ],
   "source": [
    "second_kitten = kittens[1]\n",
    "second_kitten_h2 = second_kitten.find('h2')\n",
    "print(second_kitten_h2.string)"
   ]
  },
  {
   "cell_type": "markdown",
   "metadata": {},
   "source": [
    "## Aside: joining lists"
   ]
  },
  {
   "cell_type": "code",
   "execution_count": 26,
   "metadata": {
    "collapsed": true
   },
   "outputs": [],
   "source": [
    "planets = ['Mercury', 'Venus', 'Earth', 'Mars', 'Jupiter', 'Saturn', 'Uranus', 'Neptune']"
   ]
  },
  {
   "cell_type": "code",
   "execution_count": 27,
   "metadata": {
    "collapsed": true
   },
   "outputs": [],
   "source": [
    "separator = ','"
   ]
  },
  {
   "cell_type": "code",
   "execution_count": 28,
   "metadata": {
    "collapsed": false
   },
   "outputs": [
    {
     "data": {
      "text/plain": [
       "'Mercury,Venus,Earth,Mars,Jupiter,Saturn,Uranus,Neptune'"
      ]
     },
     "execution_count": 28,
     "metadata": {},
     "output_type": "execute_result"
    }
   ],
   "source": [
    "separator.join(planets)"
   ]
  },
  {
   "cell_type": "code",
   "execution_count": 29,
   "metadata": {
    "collapsed": false
   },
   "outputs": [
    {
     "data": {
      "text/plain": [
       "'Mercury,Venus,Earth,Mars,Jupiter,Saturn,Uranus,Neptune'"
      ]
     },
     "execution_count": 29,
     "metadata": {},
     "output_type": "execute_result"
    }
   ],
   "source": [
    "','.join(planets)"
   ]
  },
  {
   "cell_type": "code",
   "execution_count": 30,
   "metadata": {
    "collapsed": false
   },
   "outputs": [
    {
     "name": "stdout",
     "output_type": "stream",
     "text": [
      "Mercury&\n",
      "Venus&\n",
      "Earth&\n",
      "Mars&\n",
      "Jupiter&\n",
      "Saturn&\n",
      "Uranus&\n",
      "Neptune\n"
     ]
    }
   ],
   "source": [
    "print('&\\n'.join(planets))"
   ]
  },
  {
   "cell_type": "markdown",
   "metadata": {},
   "source": [
    "## Aside: slicing lists"
   ]
  },
  {
   "cell_type": "code",
   "execution_count": 31,
   "metadata": {
    "collapsed": false
   },
   "outputs": [
    {
     "name": "stdout",
     "output_type": "stream",
     "text": [
      "Mercury&\n",
      "Venus&\n",
      "Earth&\n",
      "Mars\n"
     ]
    }
   ],
   "source": [
    "print('&\\n'.join(planets[:4]))"
   ]
  },
  {
   "cell_type": "code",
   "execution_count": 32,
   "metadata": {
    "collapsed": false
   },
   "outputs": [
    {
     "name": "stdout",
     "output_type": "stream",
     "text": [
      "Fluffy\n",
      "- Deep Space Nine\n",
      "- Mr. Belvedere\n",
      "Monsieur Whiskeurs\n",
      "- The X-Files\n",
      "- Fresh Prince\n"
     ]
    }
   ],
   "source": [
    "kittens = document.find_all('div', {'class': 'kitten'})\n",
    "\n",
    "for item in kittens:\n",
    "    h2_tag = item.find('h2') # this is actually searching the ENTIRE document\n",
    "    a_tags = item.find_all('a')\n",
    "    print(h2_tag.string)\n",
    "    \n",
    "    for a_tag_item in a_tags:\n",
    "        print('-', a_tag_item.string)\n",
    "\n",
    "    "
   ]
  },
  {
   "cell_type": "code",
   "execution_count": 33,
   "metadata": {
    "collapsed": false
   },
   "outputs": [
    {
     "name": "stdout",
     "output_type": "stream",
     "text": [
      "Fluffy\n",
      "- Deep Space Nine\n",
      "- Mr. Belvedere\n",
      "Monsieur Whiskeurs\n",
      "- The X-Files\n",
      "- Fresh Prince\n"
     ]
    }
   ],
   "source": [
    "# building a structure to see our data differently \n",
    "\n",
    "kittens = document.find_all('div', {'class': 'kitten'})\n",
    "\n",
    "for item in kittens:\n",
    "    h2_tag = item.find('h2') # this is actually searching the ENTIRE document\n",
    "    a_tags = item.find_all('a')\n",
    "    print(h2_tag.string)\n",
    "    \n",
    "    for a_tag_item in a_tags:\n",
    "        print('-', a_tag_item.string)\n"
   ]
  },
  {
   "cell_type": "markdown",
   "metadata": {},
   "source": [
    "## Aside: appending items to a list"
   ]
  },
  {
   "cell_type": "code",
   "execution_count": 34,
   "metadata": {
    "collapsed": true
   },
   "outputs": [],
   "source": [
    "x = ['a', 'b', 'c', 'd']"
   ]
  },
  {
   "cell_type": "code",
   "execution_count": 35,
   "metadata": {
    "collapsed": false
   },
   "outputs": [
    {
     "data": {
      "text/plain": [
       "'a'"
      ]
     },
     "execution_count": 35,
     "metadata": {},
     "output_type": "execute_result"
    }
   ],
   "source": [
    "x[0]"
   ]
  },
  {
   "cell_type": "code",
   "execution_count": 36,
   "metadata": {
    "collapsed": false
   },
   "outputs": [
    {
     "data": {
      "text/plain": [
       "'c'"
      ]
     },
     "execution_count": 36,
     "metadata": {},
     "output_type": "execute_result"
    }
   ],
   "source": [
    "x[2]"
   ]
  },
  {
   "cell_type": "code",
   "execution_count": 37,
   "metadata": {
    "collapsed": true
   },
   "outputs": [],
   "source": [
    "x.append('e')"
   ]
  },
  {
   "cell_type": "code",
   "execution_count": 38,
   "metadata": {
    "collapsed": false
   },
   "outputs": [
    {
     "data": {
      "text/plain": [
       "5"
      ]
     },
     "execution_count": 38,
     "metadata": {},
     "output_type": "execute_result"
    }
   ],
   "source": [
    "len(x)"
   ]
  },
  {
   "cell_type": "code",
   "execution_count": 39,
   "metadata": {
    "collapsed": false
   },
   "outputs": [
    {
     "data": {
      "text/plain": [
       "'e'"
      ]
     },
     "execution_count": 39,
     "metadata": {},
     "output_type": "execute_result"
    }
   ],
   "source": [
    "x[4]"
   ]
  },
  {
   "cell_type": "code",
   "execution_count": 40,
   "metadata": {
    "collapsed": true
   },
   "outputs": [],
   "source": [
    "numbers = [1, 2, 3, 4, 5, 6]"
   ]
  },
  {
   "cell_type": "code",
   "execution_count": 41,
   "metadata": {
    "collapsed": true
   },
   "outputs": [],
   "source": [
    "# we want to end up with a list of the squares of those numbers\n",
    "\n",
    "square = []\n",
    "for number in numbers:\n",
    "    s = number * number\n",
    "    square.append(s)"
   ]
  },
  {
   "cell_type": "code",
   "execution_count": 42,
   "metadata": {
    "collapsed": false
   },
   "outputs": [
    {
     "data": {
      "text/plain": [
       "[1, 4, 9, 16, 25, 36]"
      ]
     },
     "execution_count": 42,
     "metadata": {},
     "output_type": "execute_result"
    }
   ],
   "source": [
    "square"
   ]
  },
  {
   "cell_type": "code",
   "execution_count": 45,
   "metadata": {
    "collapsed": false
   },
   "outputs": [
    {
     "data": {
      "text/plain": [
       "[1, 4, 9, 16, 25, 36]"
      ]
     },
     "execution_count": 45,
     "metadata": {},
     "output_type": "execute_result"
    }
   ],
   "source": [
    "# list comprehenion\n",
    "\n",
    "squared = [item * item for item in numbers]\n",
    "squared"
   ]
  },
  {
   "cell_type": "markdown",
   "metadata": {},
   "source": [
    "## Back to Kittens! "
   ]
  },
  {
   "cell_type": "code",
   "execution_count": 44,
   "metadata": {
    "collapsed": false
   },
   "outputs": [
    {
     "name": "stdout",
     "output_type": "stream",
     "text": [
      "Fluffy:Deep Space Nine, Mr. Belvedere\n",
      "Monsieur Whiskeurs:The X-Files, Fresh Prince\n"
     ]
    }
   ],
   "source": [
    "kittens = document.find_all('div', {'class': 'kitten'})\n",
    "\n",
    "for item in kittens:\n",
    "    h2_tag = item.find('h2') # this is actually searching the ENTIRE document\n",
    "    a_tags = item.find_all('a')    \n",
    "    all_shows_str = []\n",
    "    \n",
    "    for a_tag_item in a_tags:\n",
    "        tag_str = a_tag_item.string\n",
    "        all_shows_str.append(tag_str)\n",
    "        \n",
    "    string_with_all_show_names = ', '.join(all_shows_str)\n",
    "    print(h2_tag.string + \":\" + string_with_all_show_names)"
   ]
  },
  {
   "cell_type": "markdown",
   "metadata": {
    "collapsed": true
   },
   "source": [
    "Now we want to transform the code above so that we save the data that we want as a **list of dictionaries**. \n",
    "\n",
    "Let's comment out our code above so that we understand what's happening and figure out what we need to do to create our own data structure:"
   ]
  },
  {
   "cell_type": "code",
   "execution_count": null,
   "metadata": {
    "collapsed": true
   },
   "outputs": [],
   "source": [
    "# kittens_data = list()\n",
    "kittens_data = []\n",
    "kittens = document.find_all('div', {'class': 'kitten'})\n",
    "\n",
    "for item in kittens:\n",
    "    h2_tag = item.find('h2') # this is actually searching the ENTIRE document\n",
    "    a_tags = item.find_all('a')    \n",
    "    all_shows_str = []\n",
    "    \n",
    "    for a_tag_item in a_tags:\n",
    "        tag_str = a_tag_item.string\n",
    "        all_shows_str.append(tag_str)\n",
    "        \n",
    "    # (1) Create a dictionary and add the relevant keys/value pairs\n",
    "    # (2) Add the dictionary to your list \n",
    "    \n",
    "    string_with_all_show_names = ', '.join(all_shows_str)\n",
    "    # print(h2_tag.string + \":\" + string_with_all_show_names)\n",
    "    \n",
    "kittens_data"
   ]
  },
  {
   "cell_type": "markdown",
   "metadata": {},
   "source": [
    "## Quick Review of Dictionaries"
   ]
  },
  {
   "cell_type": "code",
   "execution_count": 46,
   "metadata": {
    "collapsed": false
   },
   "outputs": [
    {
     "data": {
      "text/plain": [
       "1"
      ]
     },
     "execution_count": 46,
     "metadata": {},
     "output_type": "execute_result"
    }
   ],
   "source": [
    "# declaring a dictionary:\n",
    "\n",
    "x = { 'a': 1, 'b': 2, 'c': 3}\n",
    "\n",
    "# to get a value out of a dictionary\n",
    "\n",
    "x['a']"
   ]
  },
  {
   "cell_type": "code",
   "execution_count": 49,
   "metadata": {
    "collapsed": false
   },
   "outputs": [
    {
     "data": {
      "text/plain": [
       "dict_keys(['b', 'a', 'c'])"
      ]
     },
     "execution_count": 49,
     "metadata": {},
     "output_type": "execute_result"
    }
   ],
   "source": [
    "x.keys()"
   ]
  },
  {
   "cell_type": "code",
   "execution_count": 51,
   "metadata": {
    "collapsed": false
   },
   "outputs": [
    {
     "name": "stdout",
     "output_type": "stream",
     "text": [
      "b\n",
      "a\n",
      "c\n"
     ]
    }
   ],
   "source": [
    "for k in x.keys():\n",
    "    print(k)"
   ]
  },
  {
   "cell_type": "markdown",
   "metadata": {},
   "source": [
    "Note that the order of the items/keys in dictionaries is random!"
   ]
  },
  {
   "cell_type": "code",
   "execution_count": null,
   "metadata": {
    "collapsed": true
   },
   "outputs": [],
   "source": [
    "# Initialize a dictionary\n",
    "y = {}"
   ]
  },
  {
   "cell_type": "markdown",
   "metadata": {},
   "source": [
    "## How to gradually build up a dictionary structure"
   ]
  },
  {
   "cell_type": "code",
   "execution_count": null,
   "metadata": {
    "collapsed": true
   },
   "outputs": [],
   "source": [
    "# Build up your dictionary gradually (programmatically)\n",
    "\n",
    "# target: { 1: 1, 2: 4, 3: 9, 4: 6}\n",
    "\n",
    "squares = {}\n",
    "for n in range(1, 11):\n",
    "    # you can add a new value to a dictionary by assigning it as below\n",
    "    # dict_name[key] = value\n",
    "    squares[n] = n*n "
   ]
  },
  {
   "cell_type": "code",
   "execution_count": 53,
   "metadata": {
    "collapsed": false
   },
   "outputs": [
    {
     "data": {
      "text/plain": [
       "{'Aaron': 5, 'Bob': 3, 'Caroline': 8, 'Daphne': 6}"
      ]
     },
     "execution_count": 53,
     "metadata": {},
     "output_type": "execute_result"
    }
   ],
   "source": [
    "# Another example:\n",
    "\n",
    "names = ['Aaron', 'Bob', 'Caroline', 'Daphne']\n",
    "\n",
    "# target: {\"Aaron\": 5, \"Bob\": 3, \"Caroline\": 8, \"Daphne\": 6}\n",
    "\n",
    "name_length_map = {}\n",
    "for item in names:\n",
    "    name_length_map[item] = len(item)\n",
    "\n",
    "name_length_map"
   ]
  },
  {
   "cell_type": "code",
   "execution_count": 54,
   "metadata": {
    "collapsed": false
   },
   "outputs": [
    {
     "data": {
      "text/plain": [
       "3"
      ]
     },
     "execution_count": 54,
     "metadata": {},
     "output_type": "execute_result"
    }
   ],
   "source": [
    "name_length_map['Bob']"
   ]
  },
  {
   "cell_type": "markdown",
   "metadata": {},
   "source": [
    "## Back to kittens again! "
   ]
  },
  {
   "cell_type": "markdown",
   "metadata": {},
   "source": [
    "Let's use what we learned about gradually building up a dictionary structure to create a list of dictionaries of our kittens."
   ]
  },
  {
   "cell_type": "code",
   "execution_count": 56,
   "metadata": {
    "collapsed": false
   },
   "outputs": [
    {
     "data": {
      "text/plain": [
       "[{'name': 'Fluffy', 'tvshows': ['Deep Space Nine', 'Mr. Belvedere']},\n",
       " {'name': 'Monsieur Whiskeurs', 'tvshows': ['The X-Files', 'Fresh Prince']}]"
      ]
     },
     "execution_count": 56,
     "metadata": {},
     "output_type": "execute_result"
    }
   ],
   "source": [
    "# This is another way of initializing an empty list:\n",
    "# kittens_data = list() \n",
    "\n",
    "# Our old way:\n",
    "kittens_data = []\n",
    "kittens = document.find_all('div', {'class': 'kitten'})\n",
    "\n",
    "for item in kittens:\n",
    "    h2_tag = item.find('h2') \n",
    "    a_tags = item.find_all('a')    \n",
    "    all_shows_str = []\n",
    "    \n",
    "    for a_tag_item in a_tags:\n",
    "        tag_str = a_tag_item.string\n",
    "        all_shows_str.append(tag_str)\n",
    "        \n",
    "    # (1) Create a dictionary and add the relevant keys/value pairs\n",
    "    \n",
    "    kitten_map = {}\n",
    "    kitten_map['name'] = h2_tag.string\n",
    "    kitten_map['tvshows'] = all_shows_str\n",
    "    \n",
    "    # (2) Add the dictionary to your list \n",
    "    kittens_data.append(kitten_map)\n",
    "    \n",
    "kittens_data"
   ]
  },
  {
   "cell_type": "code",
   "execution_count": 57,
   "metadata": {
    "collapsed": false
   },
   "outputs": [
    {
     "name": "stdout",
     "output_type": "stream",
     "text": [
      "Deep Space Nine\n",
      "Mr. Belvedere\n",
      "The X-Files\n",
      "Fresh Prince\n"
     ]
    }
   ],
   "source": [
    "for kitten in kittens_data:\n",
    "    for show in kitten['tvshows']:\n",
    "        print(show)"
   ]
  },
  {
   "cell_type": "code",
   "execution_count": 58,
   "metadata": {
    "collapsed": false
   },
   "outputs": [
    {
     "data": {
      "text/plain": [
       "2"
      ]
     },
     "execution_count": 58,
     "metadata": {},
     "output_type": "execute_result"
    }
   ],
   "source": [
    "len(kittens_data)"
   ]
  },
  {
   "cell_type": "markdown",
   "metadata": {},
   "source": [
    "### A shorter way to write this code"
   ]
  },
  {
   "cell_type": "code",
   "execution_count": null,
   "metadata": {
    "collapsed": true
   },
   "outputs": [],
   "source": [
    "# An alternate way to create our dictionaries\n",
    "kitten_map = {'name': h2_tag.string, \n",
    "            'tvshows': all_shows_str}\n",
    "\n",
    "# OR\n",
    "\n",
    "kittens_data.append({'name': h2_tag.string, \n",
    "            'tvshows': all_shows_str})"
   ]
  },
  {
   "cell_type": "markdown",
   "metadata": {},
   "source": [
    "### Next task: each dictionary should also include each kitten's last checkup date."
   ]
  },
  {
   "cell_type": "code",
   "execution_count": 59,
   "metadata": {
    "collapsed": false
   },
   "outputs": [
    {
     "data": {
      "text/plain": [
       "[{'checkup': '2014-01-17',\n",
       "  'name': 'Fluffy',\n",
       "  'tvshows': ['Deep Space Nine', 'Mr. Belvedere']},\n",
       " {'checkup': '2013-11-02',\n",
       "  'name': 'Monsieur Whiskeurs',\n",
       "  'tvshows': ['The X-Files', 'Fresh Prince']}]"
      ]
     },
     "execution_count": 59,
     "metadata": {},
     "output_type": "execute_result"
    }
   ],
   "source": [
    "kittens_data = []\n",
    "kittens = document.find_all('div', {'class': 'kitten'})\n",
    "\n",
    "for item in kittens:\n",
    "    h2_tag = item.find('h2') \n",
    "    a_tags = item.find_all('a')    \n",
    "    all_shows_str = []\n",
    "    \n",
    "    for a_tag_item in a_tags:\n",
    "        tag_str = a_tag_item.string\n",
    "        all_shows_str.append(tag_str)\n",
    "        \n",
    "    checkup =  item.find('span') # get the string with checkup.string\n",
    "    kittens_data.append({'name': h2_tag.string, \n",
    "            'tvshows': all_shows_str, \n",
    "             'checkup': checkup.string })\n",
    "    \n",
    "kittens_data"
   ]
  }
 ],
 "metadata": {
  "kernelspec": {
   "display_name": "Python 3",
   "language": "python",
   "name": "python3"
  },
  "language_info": {
   "codemirror_mode": {
    "name": "ipython",
    "version": 3
   },
   "file_extension": ".py",
   "mimetype": "text/x-python",
   "name": "python",
   "nbconvert_exporter": "python",
   "pygments_lexer": "ipython3",
   "version": "3.5.0"
  }
 },
 "nbformat": 4,
 "nbformat_minor": 0
}
